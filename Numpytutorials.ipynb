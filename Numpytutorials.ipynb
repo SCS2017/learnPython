{
 "cells": [
  {
   "cell_type": "code",
   "execution_count": 1,
   "metadata": {},
   "outputs": [
    {
     "name": "stdout",
     "output_type": "stream",
     "text": [
      "[[1 2 3]\n",
      " [2 3 4]]\n",
      "number of dim: 2\n",
      "shape : (2, 3)\n",
      "size: 6\n"
     ]
    }
   ],
   "source": [
    "#Numpy 教程\n",
    "import numpy as np #为了方便使用numpy 采用np简写\n",
    "array = np.array([[1,2,3],[2,3,4]])  #列表转化为矩阵\n",
    "print(array)\n",
    "print('number of dim:',array.ndim)  # 维度\n",
    "print('shape :',array.shape)    # 行数和列数\n",
    "print('size:',array.size)   # 元素个数"
   ]
  },
  {
   "cell_type": "code",
   "execution_count": 9,
   "metadata": {},
   "outputs": [
    {
     "name": "stdout",
     "output_type": "stream",
     "text": [
      "[ 2 23  4]\n",
      "int32\n",
      "[[ 2 23  4]\n",
      " [ 2 32  4]]\n",
      "[[ 0  1  2  3]\n",
      " [ 4  5  6  7]\n",
      " [ 8  9 10 11]]\n",
      "[  1.   2.   3.   4.   5.   6.   7.   8.   9.  10.  11.  12.  13.  14.  15.\n",
      "  16.  17.  18.  19.  20.]\n"
     ]
    }
   ],
   "source": [
    "#创建数组\n",
    "a = np.array([2,23,4])  # list 1d\n",
    "print(a)\n",
    "a = np.array([2,23,4],dtype=np.int32)\n",
    "print(a.dtype)\n",
    "#创建特定数据\n",
    "a = np.array([[2,23,4],[2,32,4]])  # 2d 矩阵 2行3列\n",
    "print(a)\n",
    "a = np.zeros((3,4)) # 数据全为0，3行4列\n",
    "a = np.empty((3,4)) # 数据为empty，3行4列\n",
    "a = np.arange(10,20,2) # 10-19 的数据，2步长\n",
    "#使用 reshape 改变数据的形状\n",
    "a = np.arange(12).reshape((3,4))    # 3行4列，0到11  使用 reshape 改变数据的形状\n",
    "print(a)\n",
    "#用 linspace 创建线段型数据\n",
    "a = np.linspace(1,20,20)    # 开始端1，结束端10，且分割成20个数据，生成线段\n",
    "print(a)"
   ]
  },
  {
   "cell_type": "code",
   "execution_count": 11,
   "metadata": {},
   "outputs": [
    {
     "name": "stdout",
     "output_type": "stream",
     "text": [
      "[ True  True  True False]\n",
      "[[1 1]\n",
      " [0 1]]\n",
      "[[0 1]\n",
      " [2 3]]\n",
      "b = \n",
      " [[0 1]\n",
      " [2 3]]\n",
      "sum = [1 5]\n",
      "min = [0 1]\n",
      "max = [1 3]\n"
     ]
    }
   ],
   "source": [
    "# numpy 的几种基本运算 1\n",
    "a = np.array([10,20,30,40])   # array([10, 20, 30, 40])\n",
    "b = np.arange(4)              # array([0, 1, 2, 3])\n",
    "c = a - b\n",
    "c = a + b\n",
    "c = a * b\n",
    "print(b < 3)\n",
    "\n",
    "a=np.array([[1,1],[0,1]])\n",
    "b=np.arange(4).reshape((2,2))\n",
    "print(a)\n",
    "print(b)\n",
    "c_dot = np.dot(a,b)\n",
    "c_dot_2 = a.dot(b)\n",
    "\n",
    "print(\"b = \\n\",b)\n",
    "print(\"sum =\",np.sum(b,axis=1))\n",
    "print(\"min =\",np.min(b,axis=0))\n",
    "print(\"max =\",np.max(b,axis=1))"
   ]
  },
  {
   "cell_type": "code",
   "execution_count": 4,
   "metadata": {},
   "outputs": [
    {
     "name": "stdout",
     "output_type": "stream",
     "text": [
      "[[ 2  3  4  5]\n",
      " [ 6  7  8  9]\n",
      " [10 11 12 13]]\n",
      "0\n",
      "11\n",
      "7.5\n",
      "[ 2  5  9 14 20 27 35 44 54 65 77 90]\n",
      "(array([0, 0, 0, 0, 1, 1, 1, 1, 2, 2, 2, 2]), array([0, 1, 2, 3, 0, 1, 2, 3, 0, 1, 2, 3]))\n",
      "[[5 5 5 5]\n",
      " [6 7 8 9]\n",
      " [9 9 9 9]]\n"
     ]
    }
   ],
   "source": [
    "# numpy 的几种基本运算 1\n",
    "A = np.arange(2,14).reshape((3,4)) \n",
    "print(A)\n",
    "print(np.argmin(A))    # 0\n",
    "print(np.argmax(A))    # 11\n",
    "print(np.mean(A))        # 7.5\n",
    "print(np.cumsum(A)) \n",
    "print(np.nonzero(A))  \n",
    "# 返回非零元素的目录。\n",
    "# 返回值为元组， 两个值分别为两个维度， 包含了相应维度上非零元素的目录值。   \n",
    "# 可以通过a[nonzero(a)]来获得所有非零值。\n",
    "print(np.clip(A,5,9))    \n",
    "# 这个函数的格式是clip(Array,Array_min,Array_max)，顾名思义，Array指的是将要被执行用的矩阵，\n",
    "#而后面的最小值最大值则用于让函数判断矩阵中元素是否有比最小值小的或者比最大值大的元素，并将这些指定的元素转换为最小值或者最大值。"
   ]
  },
  {
   "cell_type": "code",
   "execution_count": 5,
   "metadata": {},
   "outputs": [
    {
     "name": "stdout",
     "output_type": "stream",
     "text": [
      "6\n",
      "[11 12 13 14]\n",
      "[8 9]\n"
     ]
    }
   ],
   "source": [
    "#Numpy 索引\n",
    "import numpy as np\n",
    "A = np.arange(3,15)        \n",
    "print(A[3])    # 6\n",
    "A = np.arange(3,15).reshape((3,4))      \n",
    "print(A[2])         \n",
    "print(A[1, 1:3])    # [8 9]"
   ]
  },
  {
   "cell_type": "code",
   "execution_count": 12,
   "metadata": {},
   "outputs": [
    {
     "name": "stdout",
     "output_type": "stream",
     "text": [
      "[[1 1 1]\n",
      " [2 2 2]]\n",
      "[1 1 1 2 2 2]\n",
      "[[1 1 1]]\n",
      "(1, 3)\n",
      "[[1]\n",
      " [1]\n",
      " [1]]\n",
      "(3, 1)\n",
      "(6, 1) (3, 2)\n",
      "[[1]\n",
      " [1]\n",
      " [1]\n",
      " [2]\n",
      " [2]\n",
      " [2]\n",
      " [2]\n",
      " [2]\n",
      " [2]\n",
      " [1]\n",
      " [1]\n",
      " [1]]\n",
      "[[1 2 2 1]\n",
      " [1 2 2 1]\n",
      " [1 2 2 1]]\n"
     ]
    }
   ],
   "source": [
    "#Numpy array 合并\n",
    "A = np.array([1,1,1])\n",
    "B = np.array([2,2,2])   \n",
    "C = np.vstack((A,B))       # vertical stack 纵向合并\n",
    "print(C)\n",
    "D = np.hstack((A,B))       # horizontal stack　横向合并\n",
    "print(D)\n",
    "\n",
    "print(A[np.newaxis,:])\n",
    "# [[1 1 1]]\n",
    "print(A[np.newaxis,:].shape)\n",
    "# (1,3)\n",
    "print(A[:,np.newaxis])\n",
    "print(A[:,np.newaxis].shape)\n",
    "# (3,1)\n",
    "\n",
    "#np.newaxis()\n",
    "A = np.array([1,1,1])[:,np.newaxis]\n",
    "B = np.array([2,2,2])[:,np.newaxis]\n",
    "         \n",
    "C = np.vstack((A,B))   # vertical stack\n",
    "D = np.hstack((A,B))   # horizontal stack\n",
    "print(C.shape,D.shape)\n",
    "# (6,1) (3,2)\n",
    "# 当你的合并操作需要针对多个矩阵或序列时，借助concatenate函数可能会让你使用起来比前述的函数更加方便：\n",
    "C = np.concatenate((A,B,B,A),axis=0)\n",
    "print(C)\n",
    "\n",
    "D = np.concatenate((A,B,B,A),axis=1)\n",
    "print(D)"
   ]
  },
  {
   "cell_type": "code",
   "execution_count": 7,
   "metadata": {},
   "outputs": [
    {
     "name": "stdout",
     "output_type": "stream",
     "text": [
      "[[ 0  1  2  3]\n",
      " [ 4  5  6  7]\n",
      " [ 8  9 10 11]]\n",
      "[array([[0, 1],\n",
      "       [4, 5],\n",
      "       [8, 9]]), array([[ 2,  3],\n",
      "       [ 6,  7],\n",
      "       [10, 11]])]\n",
      "[array([[0, 1, 2, 3]]), array([[4, 5, 6, 7]]), array([[ 8,  9, 10, 11]])]\n",
      "[array([[0, 1],\n",
      "       [4, 5],\n",
      "       [8, 9]]), array([[ 2],\n",
      "       [ 6],\n",
      "       [10]]), array([[ 3],\n",
      "       [ 7],\n",
      "       [11]])]\n",
      "[array([[0, 1, 2, 3]]), array([[4, 5, 6, 7]]), array([[ 8,  9, 10, 11]])]\n",
      "[array([[0, 1],\n",
      "       [4, 5],\n",
      "       [8, 9]]), array([[ 2,  3],\n",
      "       [ 6,  7],\n",
      "       [10, 11]])]\n"
     ]
    }
   ],
   "source": [
    "#Numpy array 分割\n",
    "A = np.arange(12).reshape((3, 4))\n",
    "print(A)\n",
    "# 纵向分割 \n",
    "print(np.split(A, 2, axis=1))\n",
    "# 横向分割 \n",
    "print(np.split(A, 3, axis=0))\n",
    "# 不等量的分割 \n",
    "#在机器学习时经常会需要将数据做不等量的分割，因此解决办法为np.array_split()\n",
    "print(np.array_split(A, 3, axis=1))\n",
    "\n",
    "#在Numpy里还有np.vsplit()与横np.hsplit()方式可用。\n",
    "print(np.vsplit(A, 3)) #等于 print(np.split(A, 3, axis=0))\n",
    "print(np.hsplit(A, 2)) #等于 print(np.split(A, 2, axis=1))"
   ]
  },
  {
   "cell_type": "code",
   "execution_count": 8,
   "metadata": {},
   "outputs": [
    {
     "name": "stdout",
     "output_type": "stream",
     "text": [
      "[11  1  2  3]\n",
      "True\n",
      "True\n",
      "True\n",
      "[11 22 33  3]\n",
      "[11 22 33  3]\n",
      "[11 22 33  3]\n",
      "[11 22 33  3]\n",
      "[11 22 33 44]\n",
      "[11 22 33  3]\n"
     ]
    }
   ],
   "source": [
    "#Numpy copy & deep copy\n",
    "# = 的赋值方式会带有关联性\n",
    "a = np.arange(4)\n",
    "b = a\n",
    "c = a\n",
    "d = b\n",
    "# 改变a的第一个值，b、c、d的第一个值也会同时改变。\n",
    "a[0] = 11\n",
    "print(a)\n",
    "# array([11,  1,  2,  3])\n",
    "# 确认b、c、d是否与a相同。\n",
    "print(b is a)  # True\n",
    "print(c is a)  # True\n",
    "print(d is a)  # True\n",
    "#同样更改d的值，a、b、c也会改变。\n",
    "d[1:3] = [22, 33]   # array([11, 22, 33,  3])\n",
    "print(a)            # array([11, 22, 33,  3])\n",
    "print(b)            # array([11, 22, 33,  3])\n",
    "print(c)            # array([11, 22, 33,  3])\n",
    "\n",
    "# copy() 的赋值方式没有关联性 \n",
    "b = a.copy()    # deep copy\n",
    "print(b)        # array([11, 22, 33,  3])\n",
    "a[3] = 44\n",
    "print(a)        # array([11, 22, 33, 44])\n",
    "print(b)        # array([11, 22, 33,  3])"
   ]
  },
  {
   "cell_type": "code",
   "execution_count": null,
   "metadata": {},
   "outputs": [],
   "source": []
  }
 ],
 "metadata": {
  "kernelspec": {
   "display_name": "Python 3",
   "language": "python",
   "name": "python3"
  },
  "language_info": {
   "codemirror_mode": {
    "name": "ipython",
    "version": 3
   },
   "file_extension": ".py",
   "mimetype": "text/x-python",
   "name": "python",
   "nbconvert_exporter": "python",
   "pygments_lexer": "ipython3",
   "version": "3.5.2"
  }
 },
 "nbformat": 4,
 "nbformat_minor": 2
}
