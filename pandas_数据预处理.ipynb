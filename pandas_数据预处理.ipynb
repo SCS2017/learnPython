{
 "cells": [
  {
   "cell_type": "code",
   "execution_count": 1,
   "metadata": {},
   "outputs": [],
   "source": [
    "# pandas数据预处理\n",
    "\n",
    "import pandas as pd\n",
    "import numpy as np"
   ]
  },
  {
   "cell_type": "code",
   "execution_count": 3,
   "metadata": {},
   "outputs": [
    {
     "name": "stdout",
     "output_type": "stream",
     "text": [
      "      1     2     3     4     5\n",
      "0   0.0   1.0   2.0   3.0   4.0\n",
      "1   5.0   NaN   7.0   8.0   9.0\n",
      "2  10.0  11.0  12.0  13.0  14.0\n",
      "3  15.0  16.0  17.0  18.0  19.0\n",
      "      1     2     3     4     5\n",
      "0   0.0   1.0   2.0   3.0   4.0\n",
      "2  10.0  11.0  12.0  13.0  14.0\n",
      "3  15.0  16.0  17.0  18.0  19.0\n",
      "      1     2     3     4     5\n",
      "0   0.0   1.0   2.0   3.0   4.0\n",
      "1   5.0   NaN   7.0   8.0   9.0\n",
      "2  10.0  11.0  12.0  13.0  14.0\n",
      "3  15.0  16.0  17.0  18.0  19.0\n"
     ]
    }
   ],
   "source": [
    "data = np.arange(20).reshape(4, 5).astype(np.float64)\n",
    "data[1, 1] = np.NaN\n",
    "# print(data)\n",
    "df = pd.DataFrame(data, columns=['1', '2', '3', '4', '5'])\n",
    "print(df)\n",
    "print(df.dropna(axis=0))  # 去掉NaN所在的行\n",
    "# print(df.dropna(axis=1))  # 去掉NaN所在的列\n",
    "# print(df.replace(np.NaN, 0))  # 值替换\n",
    "# isnull     返回一个含有布尔的对象，这些布尔表示哪些是缺失\n",
    "# notnull    isnull 的否定式\n",
    "print(df[df.notnull()])  # 这里并没有去掉有空值的行，这种方法对Series使用，可能对DataFrame不适用"
   ]
  },
  {
   "cell_type": "code",
   "execution_count": 4,
   "metadata": {},
   "outputs": [
    {
     "name": "stdout",
     "output_type": "stream",
     "text": [
      "      1     2     3     4     5\n",
      "0   0.0   1.0   2.0   3.0   4.0\n",
      "1   5.0   0.0   7.0   8.0   9.0\n",
      "2  10.0  11.0  12.0  13.0  14.0\n",
      "3  15.0  16.0  17.0  18.0  19.0\n",
      "      1     2     3     4     5\n",
      "0   0.0   1.0   2.0   3.0   4.0\n",
      "1   5.0   1.0   7.0   8.0   9.0\n",
      "2  10.0  11.0  12.0  13.0  14.0\n",
      "3  15.0  16.0  17.0  18.0  19.0\n",
      "      1     2     3     4     5\n",
      "0   0.0   1.0   2.0   3.0   4.0\n",
      "1   5.0  11.0   7.0   8.0   9.0\n",
      "2  10.0  11.0  12.0  13.0  14.0\n",
      "3  15.0  16.0  17.0  18.0  19.0\n",
      "      1     2     3     4     5\n",
      "0   0.0   1.0   2.0   3.0   4.0\n",
      "1   5.0   2.0   7.0   8.0   9.0\n",
      "2  10.0  11.0  12.0  13.0  14.0\n",
      "3  15.0  16.0  17.0  18.0  19.0\n",
      "      1          2     3     4     5\n",
      "0   0.0   1.000000   2.0   3.0   4.0\n",
      "1   5.0   9.333333   7.0   8.0   9.0\n",
      "2  10.0  11.000000  12.0  13.0  14.0\n",
      "3  15.0  16.000000  17.0  18.0  19.0\n"
     ]
    }
   ],
   "source": [
    "# 填充缺失数据（fillna）\n",
    "# DataFrame.fillna(value=None, method=None, axis=None, inplace=False, limit=None, downcast=None, **kwargs)\n",
    "# value      用于填充缺失的标量或字典对象\n",
    "# method     插方式。如果函数调用时未指定其他参数的话，默认为“ffill”\n",
    "# axis       待填充的轴，默认axis=0\n",
    "# inplace    修改调用者对象而不产生副本\n",
    "# limit      (对于前向和后向填充)可以连续填充的最大数量\n",
    "print(df.fillna(0))\n",
    "# 向前填充（搬运）\n",
    "print(df.fillna(method='ffill'))  # 默认是axis=0，表示用同列上方的数来填充\n",
    "# 向后填充（搬运）\n",
    "print(df.fillna(method='bfill'))  # 默认是axis=0，表示用同列下方的数来填充\n",
    "# 使用值填充，指定一个数来替代每列的空白值\n",
    "values = {'1': 1, '2': 2, '3': 3, '4': 4, '5': 5}\n",
    "print(df.fillna(value=values))\n",
    "print(df.fillna(value=df.mean()))  # 使用每列的均值来填充空白值"
   ]
  },
  {
   "cell_type": "code",
   "execution_count": 7,
   "metadata": {},
   "outputs": [
    {
     "name": "stdout",
     "output_type": "stream",
     "text": [
      "   A  B   C   D\n",
      "0  0  1   2   3\n",
      "1  4  5   6   7\n",
      "2  8  9  10  11\n",
      "   A   D\n",
      "0  0   3\n",
      "1  4   7\n",
      "2  8  11\n",
      "   A   D\n",
      "0  0   3\n",
      "1  4   7\n",
      "2  8  11\n",
      "   A  B   C   D\n",
      "2  8  9  10  11\n"
     ]
    }
   ],
   "source": [
    "# DataFrame.drop(labels=None,axis=0, index=None, columns=None, inplace=False)\n",
    "# 在这里默认：axis=0，指删除index，因此删除columns时要指定axis=1；\n",
    "# inplace=False，默认该删除操作不改变原数据，而是返回一个执行删除操作后的新dataframe；\n",
    "# inplace=True，则会直接在原数据上进行删除操作，删除后就回不来了。\n",
    "df = pd.DataFrame(np.arange(12).reshape(3, 4), columns=['A', 'B', 'C', 'D'])\n",
    "print(df)\n",
    "# 根据columns删除列,下面两种方法等价\n",
    "data1 = df.drop(['B', 'C'], axis=1)\n",
    "print(data1)\n",
    "data2 = df.drop(columns=['B', 'C'])\n",
    "print(data2)\n",
    "# 根据index删除行\n",
    "data3 = df.drop([0, 1])\n",
    "print(data3)"
   ]
  },
  {
   "cell_type": "code",
   "execution_count": 8,
   "metadata": {},
   "outputs": [
    {
     "name": "stdout",
     "output_type": "stream",
     "text": [
      "   age name\n",
      "0    1    a\n",
      "1    1    a\n",
      "2    2    a\n",
      "3    3    b\n",
      "4    3    b\n",
      "5    4    b\n",
      "6    5    b\n",
      "7    5    c\n",
      "8    5    c\n",
      "   age name\n",
      "0    1    a\n",
      "2    2    a\n",
      "3    3    b\n",
      "5    4    b\n",
      "6    5    b\n",
      "7    5    c\n"
     ]
    }
   ],
   "source": [
    "# 去掉重复值\n",
    "# DataFrame.drop_duplicates(subset=None, keep='first', inplace=False)\n",
    "# subset : 用来指定特定的列，默认所有列\n",
    "# keep : {‘first’, ‘last’, False}, default ‘first’ 删除重复项并保留第一次出现的项\n",
    "# inplace : boolean, default False 是直接在原来数据上修改还是保留一个副本\n",
    "data1 = pd.DataFrame(\n",
    "    {\"name\": ['a'] * 3 + ['b'] * 4 + ['c'] * 2, \"age\": [1, 1, 2, 3, 3, 4, 5, 5, 5]})\n",
    "print(data1)\n",
    "print(data1.drop_duplicates())"
   ]
  },
  {
   "cell_type": "code",
   "execution_count": 9,
   "metadata": {},
   "outputs": [
    {
     "name": "stdout",
     "output_type": "stream",
     "text": [
      "        city name\n",
      "0    Beijing    a\n",
      "1   Shanghai    b\n",
      "2   Shenzhen    c\n",
      "3  Guangzhou    d\n",
      "4   Hangzhou    e\n",
      "   Beijing  Guangzhou  Hangzhou  Shanghai  Shenzhen\n",
      "0        1          0         0         0         0\n",
      "1        0          0         0         1         0\n",
      "2        0          0         0         0         1\n",
      "3        0          1         0         0         0\n",
      "4        0          0         1         0         0\n",
      "  name  Beijing  Guangzhou  Hangzhou  Shanghai  Shenzhen\n",
      "0    a        1          0         0         0         0\n",
      "1    b        0          0         0         1         0\n",
      "2    c        0          0         0         0         1\n",
      "3    d        0          1         0         0         0\n",
      "4    e        0          0         1         0         0\n"
     ]
    }
   ],
   "source": [
    "# get_dummies函数主要用于将类别型的变量转化成哑变量(one-hot vector)\n",
    "data2 = pd.DataFrame({\"name\": ['a', 'b', 'c', 'd', 'e'], \"city\": [\n",
    "                     'Beijing', 'Shanghai', 'Shenzhen', 'Guangzhou', 'Hangzhou']})\n",
    "print(data2)\n",
    "data3_dummies = pd.get_dummies(data2[\"city\"])\n",
    "print(data3_dummies)\n",
    "print(data2[['name']].join(data3_dummies))"
   ]
  },
  {
   "cell_type": "code",
   "execution_count": 10,
   "metadata": {},
   "outputs": [
    {
     "name": "stdout",
     "output_type": "stream",
     "text": [
      "               a     b     c     d     e\n",
      "2013-01-01   0.0   1.0   2.0   3.0   4.0\n",
      "2013-01-02   5.0   6.0   7.0   8.0   9.0\n",
      "2013-01-03  10.0  11.0  12.0  13.0  14.0\n",
      "2013-01-04  15.0  16.0  17.0  18.0  19.0\n",
      "               a          b          c          d          e\n",
      "count   4.000000   4.000000   4.000000   4.000000   4.000000\n",
      "mean    7.500000   8.500000   9.500000  10.500000  11.500000\n",
      "std     6.454972   6.454972   6.454972   6.454972   6.454972\n",
      "min     0.000000   1.000000   2.000000   3.000000   4.000000\n",
      "25%     3.750000   4.750000   5.750000   6.750000   7.750000\n",
      "50%     7.500000   8.500000   9.500000  10.500000  11.500000\n",
      "75%    11.250000  12.250000  13.250000  14.250000  15.250000\n",
      "max    15.000000  16.000000  17.000000  18.000000  19.000000\n",
      "               a     b     c     d     e\n",
      "2013-01-01   0.0   1.0   2.0   3.0   4.0\n",
      "2013-01-02   5.0   6.0   7.0   8.0   9.0\n",
      "2013-01-03  10.0  11.0  12.0  13.0  14.0\n",
      "2013-01-04  15.0  16.0  17.0  18.0  19.0\n",
      "              a    b    c    d    e\n",
      "2013-01-01  0.0  1.0  2.0  3.0  4.0\n",
      "2013-01-02  5.0  6.0  7.0  8.0  9.0\n",
      "[[  0.   1.   2.   3.   4.]\n",
      " [  5.   6.   7.   8.   9.]\n",
      " [ 10.  11.  12.  13.  14.]\n",
      " [ 15.  16.  17.  18.  19.]]\n",
      "a    0.0\n",
      "b    1.0\n",
      "c    2.0\n",
      "d    3.0\n",
      "e    4.0\n",
      "Name: 2013-01-01 00:00:00, dtype: float64\n"
     ]
    }
   ],
   "source": [
    "data = np.arange(20).reshape(4, 5).astype(np.float64)\n",
    "date = pd.date_range('20130101', periods=4)\n",
    "df1 = pd.DataFrame(data, index=date, columns=['a', 'b', 'c', 'd', 'e'])\n",
    "print(df1)\n",
    "print(df1.describe())      # 对每列数据进行初步的统计\n",
    "print(df1.sort_values(by=['a'], axis=0, ascending=True))  # 按照哪几列排序\n",
    "\n",
    "print(df1[0:2])  # 前两行数据\n",
    "print(df1.iloc[:, :].values)  # 通过位置访问数据\n",
    "print(df1.loc[df1.index[0]])  # 通过index来访问"
   ]
  },
  {
   "cell_type": "code",
   "execution_count": 13,
   "metadata": {},
   "outputs": [
    {
     "name": "stdout",
     "output_type": "stream",
     "text": [
      "DatetimeIndex(['2017-06-01 09:30:00', '2017-06-01 09:30:03',\n",
      "               '2017-06-01 09:30:06', '2017-06-01 09:30:09',\n",
      "               '2017-06-01 09:30:12', '2017-06-01 09:30:15',\n",
      "               '2017-06-01 09:30:18', '2017-06-01 09:30:21',\n",
      "               '2017-06-01 09:30:24', '2017-06-01 09:30:27'],\n",
      "              dtype='datetime64[ns]', freq='3S')\n",
      "2000-01-01 00:00:00    0\n",
      "2000-01-01 00:01:00    1\n",
      "2000-01-01 00:02:00    2\n",
      "2000-01-01 00:03:00    3\n",
      "2000-01-01 00:04:00    4\n",
      "2000-01-01 00:05:00    5\n",
      "2000-01-01 00:06:00    6\n",
      "2000-01-01 00:07:00    7\n",
      "2000-01-01 00:08:00    8\n",
      "Freq: T, dtype: int64\n",
      "2000-01-01 00:00:00     3\n",
      "2000-01-01 00:03:00    12\n",
      "2000-01-01 00:06:00    21\n",
      "Freq: 3T, dtype: int64\n",
      "2000-01-01 00:03:00     3\n",
      "2000-01-01 00:06:00    12\n",
      "2000-01-01 00:09:00    21\n",
      "Freq: 3T, dtype: int64\n",
      "2000-01-01 00:00:00     0\n",
      "2000-01-01 00:03:00     6\n",
      "2000-01-01 00:06:00    15\n",
      "2000-01-01 00:09:00    15\n",
      "Freq: 3T, dtype: int64\n"
     ]
    }
   ],
   "source": [
    "date1 = pd.date_range('2017-06-01 09:30:00', periods=10, freq='3S')  # 时间间隔为3秒\n",
    "# date1 = pd.date_range('2017-6-27',periods = 7,freq = 'M')  #时间间隔为1个月\n",
    "# freq='M'间隔为一个月；freq='H'间隔为一小时；freq='D/d'间隔为一天；freq='T/min'间隔为一分钟；\n",
    "print(date1)\n",
    "# 重采样\n",
    "# 主要函数：DataFrame.resample(rule, how=None, axis=0, fill_method=None, closed=None, label=None,\n",
    "#                                 convention='start',kind=None, loffset=None, limit=None, base=0)\n",
    "# rule : string  偏移量表示目标字符串或对象转换\n",
    "# axis=0\t默认是纵轴，横轴设置axis=1\n",
    "# closed=None \t默认‘left’\n",
    "# label=None\t默认为'left'，在降采样时，如何设置聚合值的标签，例如，9：30-9：35会被标记成9：30还是9：35,默认9：30\n",
    "\n",
    "index = pd.date_range('1/1/2000', periods=9, freq='T')  # 采样频率为1分钟\n",
    "series = pd.Series(range(9), index=index)\n",
    "print(series)\n",
    "print(series.resample('3T').sum())  # 将采样频率变为3分钟\n",
    "print(series.resample('3T', label='right').sum())\n",
    "print(series.resample('3T', label='right', closed='right').sum())"
   ]
  },
  {
   "cell_type": "code",
   "execution_count": 14,
   "metadata": {},
   "outputs": [
    {
     "name": "stdout",
     "output_type": "stream",
     "text": [
      "2000-01-01 00:00:00    0.0\n",
      "2000-01-01 00:00:30    NaN\n",
      "2000-01-01 00:01:00    1.0\n",
      "2000-01-01 00:01:30    NaN\n",
      "2000-01-01 00:02:00    2.0\n",
      "Freq: 30S, dtype: float64\n",
      "2000-01-01 00:00:00    0\n",
      "2000-01-01 00:00:30    0\n",
      "2000-01-01 00:01:00    1\n",
      "2000-01-01 00:01:30    1\n",
      "2000-01-01 00:02:00    2\n",
      "Freq: 30S, dtype: int64\n",
      "2000-01-01 00:00:00    0\n",
      "2000-01-01 00:00:30    1\n",
      "2000-01-01 00:01:00    1\n",
      "2000-01-01 00:01:30    2\n",
      "2000-01-01 00:02:00    2\n",
      "Freq: 30S, dtype: int64\n",
      "2000-01-01 00:00:00     8\n",
      "2000-01-01 00:03:00    17\n",
      "2000-01-01 00:06:00    26\n",
      "Freq: 3T, dtype: int64\n"
     ]
    }
   ],
   "source": [
    "print(series.resample('30S').asfreq()[0:5])  # 将采样频率变为30秒\n",
    "print(series.resample('30S').ffill()[0:5])  # 空白值向前填充\n",
    "print(series.resample('30S').bfill()[0:5])  # 空白值向后填充\n",
    "def custom_resampler(array_like):\n",
    "    return np.sum(array_like) + 5\n",
    "\n",
    "\n",
    "print(series.resample('3T').apply(custom_resampler))"
   ]
  },
  {
   "cell_type": "code",
   "execution_count": 17,
   "metadata": {},
   "outputs": [
    {
     "name": "stdout",
     "output_type": "stream",
     "text": [
      "   age                time\n",
      "0   10 2018-01-01 09:30:00\n",
      "1   11 2018-01-01 09:30:30\n",
      "2   12 2018-01-01 09:31:00\n",
      "3   13 2018-01-01 09:31:30\n",
      "4   14 2018-01-01 09:32:00\n",
      "   age       time\n",
      "0   10 2018-01-01\n",
      "1   11 2018-01-01\n",
      "2   12 2018-01-01\n",
      "3   13 2018-01-01\n",
      "4   14 2018-01-01\n"
     ]
    }
   ],
   "source": [
    "# 将时间中的时刻去掉，只保留日期\n",
    "date = pd.date_range('20180101 09:30:00', periods=5, freq='30S')\n",
    "df = pd.DataFrame({\"time\": date, \"age\": [10, 11, 12, 13, 14]})\n",
    "print(df)\n",
    "df['time'] = df['time'].dt.normalize()\n",
    "#df['time'] = pd.to_datetime(df['time'])\n",
    "print(df)\n"
   ]
  },
  {
   "cell_type": "code",
   "execution_count": null,
   "metadata": {},
   "outputs": [],
   "source": []
  }
 ],
 "metadata": {
  "kernelspec": {
   "display_name": "Python 3",
   "language": "python",
   "name": "python3"
  },
  "language_info": {
   "codemirror_mode": {
    "name": "ipython",
    "version": 3
   },
   "file_extension": ".py",
   "mimetype": "text/x-python",
   "name": "python",
   "nbconvert_exporter": "python",
   "pygments_lexer": "ipython3",
   "version": "3.5.2"
  }
 },
 "nbformat": 4,
 "nbformat_minor": 2
}
